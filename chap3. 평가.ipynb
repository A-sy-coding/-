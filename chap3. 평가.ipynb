{
 "cells": [
  {
   "cell_type": "markdown",
   "metadata": {},
   "source": [
    "# 분류 문제서의 평가"
   ]
  },
  {
   "cell_type": "markdown",
   "metadata": {},
   "source": [
    "* 정확도\n",
    "* 오차행렬\n",
    "* 정밀도 재현율 트레이드 오프  --> 임계값 설정\n",
    "* roc 곡선  ----> auc 면적"
   ]
  },
  {
   "cell_type": "markdown",
   "metadata": {},
   "source": [
    "* 정확도"
   ]
  },
  {
   "cell_type": "code",
   "execution_count": 1,
   "metadata": {},
   "outputs": [],
   "source": [
    "# 분류 문제의 경우 평기지표로서 정확도만 보게 되면 양성클래스의 개수가 적을 경우에 문제가 발생 할 수 있다.\n",
    "# 보통 개수가 적은 클래스를 중요한 변수로 설정을 하는데 하나의 클래스가 개수가 엄청 적다면\n",
    "# 적은 클래스를 하나도 예측하지 못해도 정확도는 높게 나오는 경우가 생기게 된다. 따라서 정확도만 보고 파악하면 안된다.\n",
    "\n",
    "import numpy as np\n",
    "from sklearn.base import BaseEstimator\n",
    "\n",
    "# 직접 단순히 sex 특성이 1이면 0 그렇지 않으면 1로 예측하는 클래스 만들기!!\n",
    "class Mydummyclassifier(BaseEstimator):\n",
    "    \n",
    "    # fit 메소드 만들기\n",
    "    def fit(self,x,y=None):\n",
    "        pass\n",
    "    \n",
    "    # predict 메소드 만들기\n",
    "    def predict(self,x):\n",
    "        pred = np.zeros((x.shape[0],1))\n",
    "        for i in range(x.shape[0]):\n",
    "            if x['Sex'].iloc[i] == 1:\n",
    "                pred[i] = 0\n",
    "            else:\n",
    "                pred[i] = 1\n",
    "                \n",
    "        return pred"
   ]
  },
  {
   "cell_type": "code",
   "execution_count": 2,
   "metadata": {},
   "outputs": [],
   "source": [
    "# 타이타닉 생존자 예측\n",
    "import os, sys\n",
    "import pandas as pd\n",
    "from sklearn.model_selection import train_test_split\n",
    "from sklearn.metrics import accuracy_score\n",
    "\n",
    "\n",
    "os.chdir('C:/Users/174518/파이썬 파일저장소/파이썬 머신러닝 완벽 가이드')\n",
    "#sys.path.append(os.pardir)\n",
    "os.getcwd()\n",
    "\n",
    "\n",
    "# 원본데이터 데이터 가공 및 분할\n",
    "df = pd.read_csv('titanic_train.csv')\n",
    "y_data = df['Survived']\n",
    "x_df = df.drop('Survived',axis=1)\n",
    "\n",
    "# 다른 파일에 있는 함수 사용하기\n",
    "from function_titanic import *\n",
    "\n",
    "x_data = transform_features(x_df)\n",
    "x_train,x_test,y_train,y_test = train_test_split(x_data,y_data,test_size = 0.2, random_state = 0)"
   ]
  },
  {
   "cell_type": "code",
   "execution_count": 3,
   "metadata": {},
   "outputs": [
    {
     "name": "stdout",
     "output_type": "stream",
     "text": [
      "정확도 : 0.7877\n"
     ]
    }
   ],
   "source": [
    "# 위에서 만든 클래스 객체 만들기\n",
    "myclf = Mydummyclassifier()\n",
    "\n",
    "# 클래스 안의 fit 메소드 사용\n",
    "myclf.fit(x_train,y_train)\n",
    "\n",
    "# 클래스 안의 predict 메소드 사용\n",
    "pred = myclf.predict(x_test)\n",
    "\n",
    "# 정확도 출력\n",
    "print('정확도 : {:.4f}'.format(accuracy_score(y_test,pred)))\n",
    "\n",
    "# 성별만 가지고 분류해도 높은 정확도가 나온다.  ---> 문제가 있다는 의미"
   ]
  },
  {
   "cell_type": "markdown",
   "metadata": {},
   "source": [
    "* 재현율 정밀도"
   ]
  },
  {
   "cell_type": "code",
   "execution_count": 4,
   "metadata": {},
   "outputs": [],
   "source": [
    "# digit data 불러오기\n",
    "from sklearn.datasets import load_digits\n",
    "\n",
    "digits = load_digits()\n",
    "\n",
    "# 7이면 true 7이 아니면 false로 변환\n",
    "y = (digits.target==7).astype(int)\n",
    "x_train,x_test,y_train,y_test = train_test_split(digits.data,y,random_state = 1)"
   ]
  },
  {
   "cell_type": "code",
   "execution_count": 5,
   "metadata": {},
   "outputs": [],
   "source": [
    "# 오차행렬, 정확도, 정밀도, 재현율을 출력하는 함수 구현하기\n",
    "from sklearn.metrics import *\n",
    "\n",
    "def get_clf_evaluate(y_test,pred):\n",
    "    confusion = confusion_matrix(y_test,pred)\n",
    "    accuracy = accuracy_score(y_test,pred)\n",
    "    precision = precision_score(y_test,pred)  # 정밀도 => 예측을 기준 => 양성예측했을때 양성인 것 (TP)/(TP + FP)\n",
    "    recall = recall_score(y_test,pred) # 재현율 => 실제값 기준 => 양성일 때 양성 => (TP)/(TP + FN)\n",
    "    print('오차행렬')\n",
    "    print(confusion)\n",
    "    print('정확도:{:.3f}, 정밀도:{:.3f}, 재현율:{:.3f}'.format(accuracy,precision,recall))"
   ]
  },
  {
   "cell_type": "code",
   "execution_count": 6,
   "metadata": {},
   "outputs": [
    {
     "name": "stderr",
     "output_type": "stream",
     "text": [
      "C:\\Users\\174518\\AppData\\Local\\Continuum\\anaconda3\\lib\\site-packages\\sklearn\\linear_model\\logistic.py:432: FutureWarning: Default solver will be changed to 'lbfgs' in 0.22. Specify a solver to silence this warning.\n",
      "  FutureWarning)\n"
     ]
    },
    {
     "name": "stdout",
     "output_type": "stream",
     "text": [
      "오차행렬\n",
      "[[400   2]\n",
      " [  3  45]]\n",
      "정확도:0.989, 정밀도:0.957, 재현율:0.938\n"
     ]
    }
   ],
   "source": [
    "# 로지스틱 회귀를 이용해 타이타닉 생존자 예측하기\n",
    "from sklearn.linear_model import LogisticRegression\n",
    "\n",
    "lr_clf = LogisticRegression()\n",
    "\n",
    "lr_clf.fit(x_train,y_train)\n",
    "pred = lr_clf.predict(x_test)\n",
    "get_clf_evaluate(y_test,pred)"
   ]
  },
  {
   "cell_type": "code",
   "execution_count": 33,
   "metadata": {},
   "outputs": [
    {
     "name": "stdout",
     "output_type": "stream",
     "text": [
      "클래스 예측확률과 예측값 합친 결과 : \n",
      " [[9.99999814e-01 1.86454546e-07 0.00000000e+00]\n",
      " [9.79904871e-01 2.00951290e-02 0.00000000e+00]\n",
      " [9.99999991e-01 9.11498412e-09 0.00000000e+00]]\n"
     ]
    }
   ],
   "source": [
    "# predict_proba 함수를 사용하여 로지스틱 회귀모델이 어떻게 클래스를 분류하는지 파악한다.\n",
    "pred_proba = lr_clf.predict_proba(x_test)\n",
    "pred = lr_clf.predict(x_test)\n",
    "\n",
    "pred_proba_result = np.concatenate([pred_proba,pred.reshape(-1,1)],axis=1)  # reshape -> 형태를 맞춰주기 위해 사용\n",
    "print('클래스 예측확률과 예측값 합친 결과 : \\n',pred_proba_result[:3])"
   ]
  },
  {
   "cell_type": "code",
   "execution_count": 34,
   "metadata": {},
   "outputs": [
    {
     "data": {
      "text/plain": [
       "array([[0., 0., 1.],\n",
       "       [1., 0., 0.],\n",
       "       [0., 0., 1.]])"
      ]
     },
     "execution_count": 34,
     "metadata": {},
     "output_type": "execute_result"
    }
   ],
   "source": [
    "# 임계값을 설정하고 결과값을 출력해보기!!\n",
    "from sklearn.preprocessing import Binarizer  # 이 함수는 주어진 값이 임계값보다 크면 1, 같거나 작으면 0으로 반환해준다,\n",
    "\n",
    "# 예시\n",
    "X = [[1,-1,2],\n",
    "    [2,0,0],\n",
    "    [0,1.1,1.2]]\n",
    "result = Binarizer(threshold=1.1) # 임계값을 1.1로 설정\n",
    "result.fit_transform(X)"
   ]
  },
  {
   "cell_type": "code",
   "execution_count": 45,
   "metadata": {},
   "outputs": [
    {
     "name": "stdout",
     "output_type": "stream",
     "text": [
      "잘못 예측한 개수 :  5\n",
      "오차행렬\n",
      "[[400   2]\n",
      " [  3  45]]\n",
      "정확도:0.989, 정밀도:0.957, 재현율:0.938\n"
     ]
    }
   ],
   "source": [
    "# 위에서 다룬 타이타닉 데이터에 임계값 설정하고 결과 출력해보기\n",
    "from sklearn.preprocessing import Binarizer\n",
    "\n",
    "# 임계값 설정\n",
    "threshold = 0.5\n",
    "\n",
    "# 위에서 구한 pred_proba에서 양성클래스의 열만 추출해 Binarizer 적용\n",
    "positive_prob = pred_proba[:,1].reshape(-1,1)\n",
    "\n",
    "# 객체 생성\n",
    "binarizer = Binarizer(threshold=threshold)\n",
    "binarizer.fit(positive_prob)\n",
    "predict = binarizer.transform(positive_prob).reshape(1,-1)\n",
    "predict1 = binarizer.transform(positive_prob)\n",
    "\n",
    "print('잘못 예측한 개수 : ',np.sum(y_test != predict))\n",
    "\n",
    "# 앞에서 만든 함수에 적용\n",
    "get_clf_evaluate(y_test,predict1)\n",
    "\n",
    "#####################\n",
    "# 로지스틱 회귀모델에서는 임계값이 default로 0,5이기 때문에 직접 임계값을 정해서 구한 결과와 동일하게 나옴"
   ]
  },
  {
   "cell_type": "code",
   "execution_count": 48,
   "metadata": {},
   "outputs": [
    {
     "name": "stdout",
     "output_type": "stream",
     "text": [
      "잘못 예측한 개수 :  6\n",
      "오차행렬\n",
      "[[400   2]\n",
      " [  4  44]]\n",
      "정확도:0.987, 정밀도:0.957, 재현율:0.917\n"
     ]
    }
   ],
   "source": [
    "# 임계값을 0.8로 높여보기\n",
    "threshold = 0.8\n",
    "\n",
    "binarizer1 = Binarizer(threshold = threshold).fit(positive_prob)\n",
    "binarizer1.fit(positive_prob)\n",
    "predict2 = binarizer1.transform(positive_prob).reshape(1,-1)\n",
    "predict3 = binarizer1.transform(positive_prob)\n",
    "\n",
    "print('잘못 예측한 개수 : ',np.sum(y_test != predict2))\n",
    "\n",
    "# 앞에서 만든 함수에 적용\n",
    "get_clf_evaluate(y_test,predict3)\n",
    "\n",
    "#####################\n",
    "# 임계값이 오르면 재현율이 떨어지고 정믹도가 오르게 된다."
   ]
  },
  {
   "cell_type": "code",
   "execution_count": 60,
   "metadata": {},
   "outputs": [
    {
     "data": {
      "image/png": "[encoded data removed]",
      "text/plain": [
       "<Figure size 576x432 with 1 Axes>"
      ]
     },
     "metadata": {
      "needs_background": "light"
     },
     "output_type": "display_data"
    }
   ],
   "source": [
    "# 정밀도와 재현율 곡선 시각화하기\n",
    "import matplotlib.pyplot as plt\n",
    "import matplotlib.ticker as ticker\n",
    "import matplotlib as mpl\n",
    "from sklearn.metrics import precision_recall_curve\n",
    "\n",
    "mpl.rc('font',family='MalGun Gothic')\n",
    "mpl.rc('axes',unicode_minus=False)\n",
    "\n",
    "# predict_proba에서 레이블이 1인 열만 추출\n",
    "pred_proba_class1 = lr_clf.predict_proba(x_test)[:,1]\n",
    "\n",
    "# 정밀도, 재현율, 임계값을 출력하는 함수 만들기\n",
    "def precision_recall_curve_plot(y_test,pred_proba_class1):\n",
    "    \n",
    "    # 정밀도, 재현율, 임계값을 출력\n",
    "    precisions, recalls, thresholds = precision_recall_curve(y_test,pred_proba_class1)\n",
    "    \n",
    "    # x축 : 정밀도, y축 : 정밀도,재현율\n",
    "    plt.figure(figsize=(8,6)) # 크기 지정\n",
    "    threshold_boundary = thresholds.shape[0]\n",
    "    plt.plot(thresholds,precisions[0:threshold_boundary],linestyle='--',label='정밀도')\n",
    "    plt.plot(thresholds,recalls[0:threshold_boundary],label='재현율')\n",
    "    \n",
    "    # x축, y축 scale 변경\n",
    "    start,end = plt.xlim()\n",
    "    plt.xticks(np.round(np.arange(start,end,0.1),2))\n",
    "    plt.ylim(0.6,1)\n",
    "    \n",
    "    # 축 이름과 grid 설정\n",
    "    plt.xlabel('임계값')\n",
    "    plt.ylabel('재현율과 정밀도')\n",
    "    plt.grid()\n",
    "    plt.legend(loc='best')\n",
    "    \n",
    "    \n",
    "precision_recall_curve_plot(y_test,pred_proba_class1)"
   ]
  },
  {
   "cell_type": "markdown",
   "metadata": {},
   "source": [
    "* f1 score"
   ]
  },
  {
   "cell_type": "markdown",
   "metadata": {},
   "source": [
    "* 정밀도와 재현율을 결합한 지표이다.\n",
    "* f1 score는 정밀도와 재현율이 어느 한쪽으로 치우쳐있지 않을 때 높은 값을 가진다."
   ]
  },
  {
   "cell_type": "code",
   "execution_count": 66,
   "metadata": {},
   "outputs": [
    {
     "name": "stdout",
     "output_type": "stream",
     "text": [
      "임계값 :  0.05\n",
      "f1 : 0.929\n",
      "임계값 :  0.15\n",
      "f1 : 0.948\n",
      "임계값 :  0.25\n",
      "f1 : 0.958\n",
      "임계값 :  0.35\n",
      "f1 : 0.947\n",
      "임계값 :  0.45\n",
      "f1 : 0.947\n",
      "임계값 :  0.5\n",
      "f1 : 0.947\n"
     ]
    }
   ],
   "source": [
    "# 임계값을 변화시키면서 f1 score값 구해보기\n",
    "from sklearn.metrics import f1_score\n",
    "\n",
    "def get_f1_by_threshold(y_test,pred_proba,thresholds):\n",
    "    \n",
    "    for threshold in thresholds:\n",
    "        binarizer = Binarizer(threshold=threshold).fit(pred_proba)\n",
    "        predict = binarizer.transform(pred_proba)\n",
    "        print('임계값 : ',threshold)\n",
    "        print('f1 : {:.3f}'.format(f1_score(y_test,predict)))\n",
    "\n",
    "# 임계값과 pred_proba 정하기\n",
    "thresholds = [0.05,0.15,0.25,0.35,0.45,0.5]\n",
    "pred_proba = lr_clf.predict_proba(x_test)[:,1].reshape(-1,1)\n",
    "\n",
    "get_f1_by_threshold(y_test,pred_proba,thresholds)"
   ]
  },
  {
   "cell_type": "markdown",
   "metadata": {},
   "source": [
    "* roc 곡선"
   ]
  },
  {
   "cell_type": "markdown",
   "metadata": {},
   "source": [
    "* FPR이 변할때 TPR이 어떻게 변하는지를 나타낸다.\n",
    "* FPR = FP / (FP + TN)\n",
    "* TPR(재현율) = TP / (FN + TP)\n",
    "* 가운데 직선으로부터 멀수록 성능이 좋은것이다."
   ]
  },
  {
   "cell_type": "code",
   "execution_count": 90,
   "metadata": {},
   "outputs": [
    {
     "name": "stdout",
     "output_type": "stream",
     "text": [
      "auc 면적 : 0.998\n"
     ]
    },
    {
     "data": {
      "image/png": "[encoded data removed]",
      "text/plain": [
       "<Figure size 432x288 with 1 Axes>"
      ]
     },
     "metadata": {
      "needs_background": "light"
     },
     "output_type": "display_data"
    }
   ],
   "source": [
    "# roc_curve 함수를 이용해 roc곡선을 그려보자\n",
    "from sklearn.metrics import roc_curve\n",
    "from sklearn.metrics import roc_auc_score\n",
    "\n",
    "# predict_proba에서 레이블이 1인 열만 추출\n",
    "pred_proba_class1 = lr_clf.predict_proba(x_test)[:,1]\n",
    "\n",
    "def roc_curve_plot(y_test,pred_proba_class1):\n",
    "    \n",
    "    # fpr,tpr,threshold 구하기\n",
    "    fprs,tprs,thresholds = roc_curve(y_test,pred_proba_class1)\n",
    "    \n",
    "    # roc 곡선 그리기\n",
    "    plt.plot(fprs,tprs,label='ROC')\n",
    "    plt.plot([0,1],[0,1],'k--',label='Random') # 가운데 직선 그리기\n",
    "    \n",
    "    # 축 범위 및 이름 지정\n",
    "    start,end = plt.xlim() # default가 0에서 1이다.\n",
    "    plt.xticks(np.round(np.arange(start,end,0.1),2))\n",
    "    plt.xlim(-0.01,1) ; plt.ylim(0,1.01)\n",
    "    plt.xlabel('FPR')\n",
    "    plt.ylabel('TPR')\n",
    "    plt.legend(loc='lower right')\n",
    "    \n",
    "roc_curve_plot(y_test,pred_proba_class1)\n",
    "print('auc 면적 : {:.3f}'.format(roc_auc_score(y_test,pred_proba)))"
   ]
  },
  {
   "cell_type": "markdown",
   "metadata": {},
   "source": [
    "# 피마 인디언 당뇨병 예측"
   ]
  },
  {
   "cell_type": "markdown",
   "metadata": {},
   "source": [
    "* Pregnancies : 임신횟수\n",
    "* Glucose : 포도당 부하 검사 수치\n",
    "* BloodPressure : 혈압\n",
    "* SkinThickness : 팔 삼두근 뒤쪽의 피하지방 측정값\n",
    "* Insulin : 혈청 인슐린\n",
    "* BMI : 체질량지수\n",
    "* DiabetesPedigreeFunction : 당뇨 내력 가중치 값\n",
    "* Age : 나이\n",
    "* Outcome : 클래스 결정 값 (0 또는 1)"
   ]
  },
  {
   "cell_type": "code",
   "execution_count": 93,
   "metadata": {},
   "outputs": [
    {
     "name": "stdout",
     "output_type": "stream",
     "text": [
      "현재 위치 :  C:\\Users\\174518\\파이썬 파일저장소\\파이썬 머신러닝 완벽 가이드\n",
      "현재 위치 :  C:\\Users\\174518\\파이썬 파일저장소\\파이썬 머신러닝 완벽 가이드\\data\n"
     ]
    }
   ],
   "source": [
    "import os\n",
    "print('현재 위치 : ',os.getcwd())\n",
    "os.chdir('C:/Users/174518/파이썬 파일저장소/파이썬 머신러닝 완벽 가이드/data')\n",
    "print('현재 위치 : ',os.getcwd())"
   ]
  },
  {
   "cell_type": "code",
   "execution_count": 106,
   "metadata": {},
   "outputs": [
    {
     "name": "stdout",
     "output_type": "stream",
     "text": [
      "<class 'pandas.core.frame.DataFrame'>\n",
      "RangeIndex: 768 entries, 0 to 767\n",
      "Data columns (total 9 columns):\n",
      "Pregnancies                 768 non-null int64\n",
      "Glucose                     768 non-null int64\n",
      "BloodPressure               768 non-null int64\n",
      "SkinThickness               768 non-null int64\n",
      "Insulin                     768 non-null int64\n",
      "BMI                         768 non-null float64\n",
      "DiabetesPedigreeFunction    768 non-null float64\n",
      "Age                         768 non-null int64\n",
      "Outcome                     768 non-null int64\n",
      "dtypes: float64(2), int64(7)\n",
      "memory usage: 54.1 KB\n",
      "데이터 변수 이름 : \n",
      " Index(['Pregnancies', 'Glucose', 'BloodPressure', 'SkinThickness', 'Insulin',\n",
      "       'BMI', 'DiabetesPedigreeFunction', 'Age', 'Outcome'],\n",
      "      dtype='object')\n",
      "반응변수 값들 빈도 : \n",
      " 0    500\n",
      "1    268\n",
      "Name: Outcome, dtype: int64\n"
     ]
    },
    {
     "data": {
      "text/html": [
       "<div>\n",
       "<style scoped>\n",
       "    .dataframe tbody tr th:only-of-type {\n",
       "        vertical-align: middle;\n",
       "    }\n",
       "\n",
       "    .dataframe tbody tr th {\n",
       "        vertical-align: top;\n",
       "    }\n",
       "\n",
       "    .dataframe thead th {\n",
       "        text-align: right;\n",
       "    }\n",
       "</style>\n",
       "<table border=\"1\" class=\"dataframe\">\n",
       "  <thead>\n",
       "    <tr style=\"text-align: right;\">\n",
       "      <th></th>\n",
       "      <th>Pregnancies</th>\n",
       "      <th>Glucose</th>\n",
       "      <th>BloodPressure</th>\n",
       "      <th>SkinThickness</th>\n",
       "      <th>Insulin</th>\n",
       "      <th>BMI</th>\n",
       "      <th>DiabetesPedigreeFunction</th>\n",
       "      <th>Age</th>\n",
       "      <th>Outcome</th>\n",
       "    </tr>\n",
       "  </thead>\n",
       "  <tbody>\n",
       "    <tr>\n",
       "      <td>0</td>\n",
       "      <td>6</td>\n",
       "      <td>148</td>\n",
       "      <td>72</td>\n",
       "      <td>35</td>\n",
       "      <td>0</td>\n",
       "      <td>33.6</td>\n",
       "      <td>0.627</td>\n",
       "      <td>50</td>\n",
       "      <td>1</td>\n",
       "    </tr>\n",
       "    <tr>\n",
       "      <td>1</td>\n",
       "      <td>1</td>\n",
       "      <td>85</td>\n",
       "      <td>66</td>\n",
       "      <td>29</td>\n",
       "      <td>0</td>\n",
       "      <td>26.6</td>\n",
       "      <td>0.351</td>\n",
       "      <td>31</td>\n",
       "      <td>0</td>\n",
       "    </tr>\n",
       "    <tr>\n",
       "      <td>2</td>\n",
       "      <td>8</td>\n",
       "      <td>183</td>\n",
       "      <td>64</td>\n",
       "      <td>0</td>\n",
       "      <td>0</td>\n",
       "      <td>23.3</td>\n",
       "      <td>0.672</td>\n",
       "      <td>32</td>\n",
       "      <td>1</td>\n",
       "    </tr>\n",
       "    <tr>\n",
       "      <td>3</td>\n",
       "      <td>1</td>\n",
       "      <td>89</td>\n",
       "      <td>66</td>\n",
       "      <td>23</td>\n",
       "      <td>94</td>\n",
       "      <td>28.1</td>\n",
       "      <td>0.167</td>\n",
       "      <td>21</td>\n",
       "      <td>0</td>\n",
       "    </tr>\n",
       "    <tr>\n",
       "      <td>4</td>\n",
       "      <td>0</td>\n",
       "      <td>137</td>\n",
       "      <td>40</td>\n",
       "      <td>35</td>\n",
       "      <td>168</td>\n",
       "      <td>43.1</td>\n",
       "      <td>2.288</td>\n",
       "      <td>33</td>\n",
       "      <td>1</td>\n",
       "    </tr>\n",
       "  </tbody>\n",
       "</table>\n",
       "</div>"
      ],
      "text/plain": [
       "   Pregnancies  Glucose  BloodPressure  SkinThickness  Insulin   BMI  \\\n",
       "0            6      148             72             35        0  33.6   \n",
       "1            1       85             66             29        0  26.6   \n",
       "2            8      183             64              0        0  23.3   \n",
       "3            1       89             66             23       94  28.1   \n",
       "4            0      137             40             35      168  43.1   \n",
       "\n",
       "   DiabetesPedigreeFunction  Age  Outcome  \n",
       "0                     0.627   50        1  \n",
       "1                     0.351   31        0  \n",
       "2                     0.672   32        1  \n",
       "3                     0.167   21        0  \n",
       "4                     2.288   33        1  "
      ]
     },
     "execution_count": 106,
     "metadata": {},
     "output_type": "execute_result"
    }
   ],
   "source": [
    "# 필요한 라이브러리 불러오기\n",
    "import numpy as np\n",
    "import pandas as pd\n",
    "import matplotlib.pyplot as plt\n",
    "\n",
    "from sklearn.model_selection import train_test_split\n",
    "from sklearn.metrics import accuracy_score,precision_score,recall_score,roc_auc_score\n",
    "from sklearn.metrics import f1_score, confusion_matrix, precision_recall_curve , roc_curve\n",
    "from sklearn.preprocessing import StandardScaler\n",
    "from sklearn.linear_model import LogisticRegression\n",
    "\n",
    "\n",
    "# 데이터 불러오기\n",
    "data = pd.read_csv('diabetes.csv')\n",
    "data.info()  # 결측값이 없음을 확인할 수 있다.\n",
    "print('데이터 변수 이름 : \\n',data.columns)\n",
    "print('반응변수 값들 빈도 : \\n',data['Outcome'].value_counts())\n",
    "data.head()\n",
    "\n",
    "#####################\n",
    "# 이 데이터는 분류문제로 해결해야한다.\n",
    "# 특성들의 타입은 모두 숫자형이다.\n",
    "# 데이터를 확인해봤을때 결측값은 존재하지 않고, 반응변수에서 0이 500개 1이 268개로 데이터 값이 불균형하다는 것을 알 수 있다.\n",
    "# 데이터 값이 불균형할때는 정확도만 가지고 모델을 평가하는 것이 아니라 f1-score, roc곡선등의 평가지표를 추가로 시행해주어야 한다."
   ]
  },
  {
   "cell_type": "markdown",
   "metadata": {},
   "source": [
    "# ---------------------------------------------------------------------------------"
   ]
  },
  {
   "cell_type": "markdown",
   "metadata": {},
   "source": [
    "# 앞으로 계속 사용할 함수"
   ]
  },
  {
   "cell_type": "code",
   "execution_count": 127,
   "metadata": {},
   "outputs": [],
   "source": [
    "# 오차행렬, 정밀도, 재현율, f1, roc_auc를 출력해주는 함수\n",
    "\n",
    "def get_clf_eval(y_test,pred=None,pred_proba=None):\n",
    "    \n",
    "    # 오차행렬, 정밀도, 재현율, f1\n",
    "    confusion = confusion_matrix(y_test,pred)\n",
    "    precision = precision_score(y_test,pred)\n",
    "    recall = recall_score(y_test,pred)\n",
    "    f1 = f1_score(y_test,pred)\n",
    "    \n",
    "    # roc-auc\n",
    "    roc_auc = roc_auc_score(y_test,pred_proba)\n",
    "    \n",
    "    # 출력하기\n",
    "    print('오차 행렬')\n",
    "    print(confusion)\n",
    "    print('정밀도 : {:.4f}, 재현율 : {:.4f}, F1 : {:.4f}, AUC : {:.4f}'.format(precision,recall,f1,roc_auc))"
   ]
  },
  {
   "cell_type": "code",
   "execution_count": 132,
   "metadata": {},
   "outputs": [],
   "source": [
    "# 정밀도, 재현율, 임계값을 출력하는 함수 만들기\n",
    "\n",
    "def precision_recall_curve_plot(y_test,pred_proba_class1):\n",
    "    \n",
    "    # 정밀도, 재현율, 임계값을 출력\n",
    "    precisions, recalls, thresholds = precision_recall_curve(y_test,pred_proba_class1)\n",
    "    \n",
    "    # x축 : 정밀도, y축 : 정밀도,재현율\n",
    "    plt.figure(figsize=(8,6)) # 크기 지정\n",
    "    threshold_boundary = thresholds.shape[0]\n",
    "    plt.plot(thresholds,precisions[0:threshold_boundary],linestyle='--',label='정밀도')\n",
    "    plt.plot(thresholds,recalls[0:threshold_boundary],label='재현율')\n",
    "    \n",
    "    # x축, y축 scale 변경\n",
    "    start,end = plt.xlim()\n",
    "    plt.xticks(np.round(np.arange(start,end,0.1),2))\n",
    "    \n",
    "    # 축 이름과 grid 설정\n",
    "    plt.xlabel('임계값')\n",
    "    plt.ylabel('재현율과 정밀도')\n",
    "    plt.grid()\n",
    "    plt.legend(loc='best')"
   ]
  },
  {
   "cell_type": "code",
   "execution_count": 180,
   "metadata": {},
   "outputs": [],
   "source": [
    "def get_eval_by_threshold(y_test , pred_proba_c1, thresholds):\n",
    "   \n",
    "    # thresholds 리스트 객체내의 값을 차례로 iteration하면서 Evaluation 수행.\n",
    "    for custom_threshold in thresholds:\n",
    "        binarizer = Binarizer(threshold=custom_threshold).fit(pred_proba_c1) \n",
    "        custom_predict = binarizer.transform(pred_proba_c1)\n",
    "        print('임곗값:',custom_threshold)\n",
    "        get_clf_eval(y_test , custom_predict, pred_proba_c1)"
   ]
  },
  {
   "cell_type": "markdown",
   "metadata": {},
   "source": [
    "# ---------------------------------------------------------------------------------"
   ]
  },
  {
   "cell_type": "markdown",
   "metadata": {},
   "source": [
    "* 별다른 데이터 전처리를 하지 않고 모델을 적용해보기"
   ]
  },
  {
   "cell_type": "code",
   "execution_count": 128,
   "metadata": {},
   "outputs": [
    {
     "name": "stdout",
     "output_type": "stream",
     "text": [
      "정확도 : 0.779\n",
      "오차 행렬\n",
      "[[82 18]\n",
      " [26 28]]\n",
      "정밀도 : 0.6087, 재현율 : 0.5185, F1 : 0.5600, AUC : 0.8230\n"
     ]
    }
   ],
   "source": [
    "from sklearn.model_selection import cross_val_score\n",
    "\n",
    "# 설명변수(특성)와 반응변수(레이블)로 구분하기\n",
    "X = data.iloc[:,:-1] # 마지막열 제외하고 추출\n",
    "y = data.iloc[:,-1] # 마지막열 추출\n",
    "\n",
    "# 훈련 데이터와 테스트 데이터로 분할하기 --> y의 값들이 불균형하기 때문에 stratify 옵션을 추가해준다.\n",
    "X_train,X_test,y_train,y_test = train_test_split(X,y,random_state=42,test_size=0.2,stratify=y)\n",
    "\n",
    "# 간단히 로지스틱 회귀 모델 적용해보기\n",
    "lr_clf  = LogisticRegression(solver='lbfgs',max_iter = 1000).fit(X_train,y_train)\n",
    "\n",
    "# 훈련데이터를 가지고 cv=10으로 지정하고 교차검증 실시해보기\n",
    "score = cross_val_score(lr_clf,X_train,y_train,cv=10)\n",
    "print('정확도 : {:.3f}'.format(score.mean()))\n",
    "\n",
    "# 예측하기\n",
    "pred = lr_clf.predict(X_test)\n",
    "pred_proba = lr_clf.predict_proba(X_test)[:,1]\n",
    "\n",
    "# 출력하기\n",
    "get_clf_eval(y_test,pred,pred_proba)\n",
    "\n",
    "#########################\n",
    "# 재현율이 좀 낮게 나왔으니 재현율을 높이는 방향으로 가보자"
   ]
  },
  {
   "cell_type": "code",
   "execution_count": 133,
   "metadata": {},
   "outputs": [
    {
     "data": {
      "image/png": "[encoded data removed]",
      "text/plain": [
       "<Figure size 576x432 with 1 Axes>"
      ]
     },
     "metadata": {
      "needs_background": "light"
     },
     "output_type": "display_data"
    }
   ],
   "source": [
    "# 정밀도와 재현율의 곡선 그려보기\n",
    "precision_recall_curve_plot(y_test,pred_proba)\n",
    "\n",
    "########################\n",
    "# 정밀도와 재현율이 임계값이 0.42정도에서 균형을 이루고 있는것을 확인할 수 있다.\n",
    "# 하지만 두개의 지표모두 0.6정도로 낮은 수치를 보인다.\n",
    "# 따라서 임계값을 조절하기 전에 데이터의 값을 다시 한 번 점검해보아야 한다."
   ]
  },
  {
   "cell_type": "code",
   "execution_count": 134,
   "metadata": {},
   "outputs": [
    {
     "data": {
      "text/html": [
       "<div>\n",
       "<style scoped>\n",
       "    .dataframe tbody tr th:only-of-type {\n",
       "        vertical-align: middle;\n",
       "    }\n",
       "\n",
       "    .dataframe tbody tr th {\n",
       "        vertical-align: top;\n",
       "    }\n",
       "\n",
       "    .dataframe thead th {\n",
       "        text-align: right;\n",
       "    }\n",
       "</style>\n",
       "<table border=\"1\" class=\"dataframe\">\n",
       "  <thead>\n",
       "    <tr style=\"text-align: right;\">\n",
       "      <th></th>\n",
       "      <th>Pregnancies</th>\n",
       "      <th>Glucose</th>\n",
       "      <th>BloodPressure</th>\n",
       "      <th>SkinThickness</th>\n",
       "      <th>Insulin</th>\n",
       "      <th>BMI</th>\n",
       "      <th>DiabetesPedigreeFunction</th>\n",
       "      <th>Age</th>\n",
       "      <th>Outcome</th>\n",
       "    </tr>\n",
       "  </thead>\n",
       "  <tbody>\n",
       "    <tr>\n",
       "      <td>count</td>\n",
       "      <td>768.000000</td>\n",
       "      <td>768.000000</td>\n",
       "      <td>768.000000</td>\n",
       "      <td>768.000000</td>\n",
       "      <td>768.000000</td>\n",
       "      <td>768.000000</td>\n",
       "      <td>768.000000</td>\n",
       "      <td>768.000000</td>\n",
       "      <td>768.000000</td>\n",
       "    </tr>\n",
       "    <tr>\n",
       "      <td>mean</td>\n",
       "      <td>3.845052</td>\n",
       "      <td>120.894531</td>\n",
       "      <td>69.105469</td>\n",
       "      <td>20.536458</td>\n",
       "      <td>79.799479</td>\n",
       "      <td>31.992578</td>\n",
       "      <td>0.471876</td>\n",
       "      <td>33.240885</td>\n",
       "      <td>0.348958</td>\n",
       "    </tr>\n",
       "    <tr>\n",
       "      <td>std</td>\n",
       "      <td>3.369578</td>\n",
       "      <td>31.972618</td>\n",
       "      <td>19.355807</td>\n",
       "      <td>15.952218</td>\n",
       "      <td>115.244002</td>\n",
       "      <td>7.884160</td>\n",
       "      <td>0.331329</td>\n",
       "      <td>11.760232</td>\n",
       "      <td>0.476951</td>\n",
       "    </tr>\n",
       "    <tr>\n",
       "      <td>min</td>\n",
       "      <td>0.000000</td>\n",
       "      <td>0.000000</td>\n",
       "      <td>0.000000</td>\n",
       "      <td>0.000000</td>\n",
       "      <td>0.000000</td>\n",
       "      <td>0.000000</td>\n",
       "      <td>0.078000</td>\n",
       "      <td>21.000000</td>\n",
       "      <td>0.000000</td>\n",
       "    </tr>\n",
       "    <tr>\n",
       "      <td>25%</td>\n",
       "      <td>1.000000</td>\n",
       "      <td>99.000000</td>\n",
       "      <td>62.000000</td>\n",
       "      <td>0.000000</td>\n",
       "      <td>0.000000</td>\n",
       "      <td>27.300000</td>\n",
       "      <td>0.243750</td>\n",
       "      <td>24.000000</td>\n",
       "      <td>0.000000</td>\n",
       "    </tr>\n",
       "    <tr>\n",
       "      <td>50%</td>\n",
       "      <td>3.000000</td>\n",
       "      <td>117.000000</td>\n",
       "      <td>72.000000</td>\n",
       "      <td>23.000000</td>\n",
       "      <td>30.500000</td>\n",
       "      <td>32.000000</td>\n",
       "      <td>0.372500</td>\n",
       "      <td>29.000000</td>\n",
       "      <td>0.000000</td>\n",
       "    </tr>\n",
       "    <tr>\n",
       "      <td>75%</td>\n",
       "      <td>6.000000</td>\n",
       "      <td>140.250000</td>\n",
       "      <td>80.000000</td>\n",
       "      <td>32.000000</td>\n",
       "      <td>127.250000</td>\n",
       "      <td>36.600000</td>\n",
       "      <td>0.626250</td>\n",
       "      <td>41.000000</td>\n",
       "      <td>1.000000</td>\n",
       "    </tr>\n",
       "    <tr>\n",
       "      <td>max</td>\n",
       "      <td>17.000000</td>\n",
       "      <td>199.000000</td>\n",
       "      <td>122.000000</td>\n",
       "      <td>99.000000</td>\n",
       "      <td>846.000000</td>\n",
       "      <td>67.100000</td>\n",
       "      <td>2.420000</td>\n",
       "      <td>81.000000</td>\n",
       "      <td>1.000000</td>\n",
       "    </tr>\n",
       "  </tbody>\n",
       "</table>\n",
       "</div>"
      ],
      "text/plain": [
       "       Pregnancies     Glucose  BloodPressure  SkinThickness     Insulin  \\\n",
       "count   768.000000  768.000000     768.000000     768.000000  768.000000   \n",
       "mean      3.845052  120.894531      69.105469      20.536458   79.799479   \n",
       "std       3.369578   31.972618      19.355807      15.952218  115.244002   \n",
       "min       0.000000    0.000000       0.000000       0.000000    0.000000   \n",
       "25%       1.000000   99.000000      62.000000       0.000000    0.000000   \n",
       "50%       3.000000  117.000000      72.000000      23.000000   30.500000   \n",
       "75%       6.000000  140.250000      80.000000      32.000000  127.250000   \n",
       "max      17.000000  199.000000     122.000000      99.000000  846.000000   \n",
       "\n",
       "              BMI  DiabetesPedigreeFunction         Age     Outcome  \n",
       "count  768.000000                768.000000  768.000000  768.000000  \n",
       "mean    31.992578                  0.471876   33.240885    0.348958  \n",
       "std      7.884160                  0.331329   11.760232    0.476951  \n",
       "min      0.000000                  0.078000   21.000000    0.000000  \n",
       "25%     27.300000                  0.243750   24.000000    0.000000  \n",
       "50%     32.000000                  0.372500   29.000000    0.000000  \n",
       "75%     36.600000                  0.626250   41.000000    1.000000  \n",
       "max     67.100000                  2.420000   81.000000    1.000000  "
      ]
     },
     "execution_count": 134,
     "metadata": {},
     "output_type": "execute_result"
    }
   ],
   "source": [
    "# 데이터 값 확인해보기\n",
    "data.describe()\n",
    "\n",
    "################################\n",
    "# 데이터를 살펴보면 최소값이 0으로 되어 있는 특성들이 많이 보인다.\n",
    "# 최소값이 0이면 말이 안되는 특성들이 몇몇이 있기 때문에 말이 안되는 특성들의 0의 비율을 확인해보자"
   ]
  },
  {
   "cell_type": "code",
   "execution_count": 135,
   "metadata": {},
   "outputs": [
    {
     "data": {
      "text/plain": [
       "Index(['Pregnancies', 'Glucose', 'BloodPressure', 'SkinThickness', 'Insulin',\n",
       "       'BMI', 'DiabetesPedigreeFunction', 'Age', 'Outcome'],\n",
       "      dtype='object')"
      ]
     },
     "execution_count": 135,
     "metadata": {},
     "output_type": "execute_result"
    }
   ],
   "source": [
    "data.columns"
   ]
  },
  {
   "cell_type": "code",
   "execution_count": 148,
   "metadata": {},
   "outputs": [
    {
     "name": "stdout",
     "output_type": "stream",
     "text": [
      "Glucose 0 건수 : 5개 , 퍼센트 : 0.65\n",
      "BloodPressure 0 건수 : 35개 , 퍼센트 : 4.56\n",
      "SkinThickness 0 건수 : 227개 , 퍼센트 : 29.56\n",
      "Insulin 0 건수 : 374개 , 퍼센트 : 48.70\n",
      "BMI 0 건수 : 0개 , 퍼센트 : 0.00\n"
     ]
    }
   ],
   "source": [
    "# 0을 검사할 특성 리스트\n",
    "feature = ['Glucose','BloodPressure','SkinThickness','Insulin','BMI']\n",
    "\n",
    "# 전체 데이터 개수\n",
    "total_count = data.shape[0]\n",
    "\n",
    "# 특성별 0의 개수와 0이 각 특성에서 차지하는 비율 출력\n",
    "for x in feature:\n",
    "    count = data[data[x]==0][x].count()\n",
    "    print('{} 0 건수 : {}개 , 퍼센트 : {:.2f}'.format(x,count,100*count/total_count))\n",
    "    \n",
    "#########################\n",
    "# SkinThickness 와 Insulin의 경우 0의 비중이 높다는 것을 확인할 수 있다.\n",
    "# 이 0의 값들을 각 특성의 평균값으로 대체한다."
   ]
  },
  {
   "cell_type": "code",
   "execution_count": 151,
   "metadata": {},
   "outputs": [
    {
     "data": {
      "text/html": [
       "<div>\n",
       "<style scoped>\n",
       "    .dataframe tbody tr th:only-of-type {\n",
       "        vertical-align: middle;\n",
       "    }\n",
       "\n",
       "    .dataframe tbody tr th {\n",
       "        vertical-align: top;\n",
       "    }\n",
       "\n",
       "    .dataframe thead th {\n",
       "        text-align: right;\n",
       "    }\n",
       "</style>\n",
       "<table border=\"1\" class=\"dataframe\">\n",
       "  <thead>\n",
       "    <tr style=\"text-align: right;\">\n",
       "      <th></th>\n",
       "      <th>Pregnancies</th>\n",
       "      <th>Glucose</th>\n",
       "      <th>BloodPressure</th>\n",
       "      <th>SkinThickness</th>\n",
       "      <th>Insulin</th>\n",
       "      <th>BMI</th>\n",
       "      <th>DiabetesPedigreeFunction</th>\n",
       "      <th>Age</th>\n",
       "      <th>Outcome</th>\n",
       "    </tr>\n",
       "  </thead>\n",
       "  <tbody>\n",
       "    <tr>\n",
       "      <td>count</td>\n",
       "      <td>768.000000</td>\n",
       "      <td>768.000000</td>\n",
       "      <td>768.000000</td>\n",
       "      <td>768.000000</td>\n",
       "      <td>768.000000</td>\n",
       "      <td>768.000000</td>\n",
       "      <td>768.000000</td>\n",
       "      <td>768.000000</td>\n",
       "      <td>768.000000</td>\n",
       "    </tr>\n",
       "    <tr>\n",
       "      <td>mean</td>\n",
       "      <td>3.845052</td>\n",
       "      <td>121.681605</td>\n",
       "      <td>72.254807</td>\n",
       "      <td>26.606479</td>\n",
       "      <td>118.660163</td>\n",
       "      <td>32.450805</td>\n",
       "      <td>0.471876</td>\n",
       "      <td>33.240885</td>\n",
       "      <td>0.348958</td>\n",
       "    </tr>\n",
       "    <tr>\n",
       "      <td>std</td>\n",
       "      <td>3.369578</td>\n",
       "      <td>30.436016</td>\n",
       "      <td>12.115932</td>\n",
       "      <td>9.631241</td>\n",
       "      <td>93.080358</td>\n",
       "      <td>6.875374</td>\n",
       "      <td>0.331329</td>\n",
       "      <td>11.760232</td>\n",
       "      <td>0.476951</td>\n",
       "    </tr>\n",
       "    <tr>\n",
       "      <td>min</td>\n",
       "      <td>0.000000</td>\n",
       "      <td>44.000000</td>\n",
       "      <td>24.000000</td>\n",
       "      <td>7.000000</td>\n",
       "      <td>14.000000</td>\n",
       "      <td>18.200000</td>\n",
       "      <td>0.078000</td>\n",
       "      <td>21.000000</td>\n",
       "      <td>0.000000</td>\n",
       "    </tr>\n",
       "    <tr>\n",
       "      <td>25%</td>\n",
       "      <td>1.000000</td>\n",
       "      <td>99.750000</td>\n",
       "      <td>64.000000</td>\n",
       "      <td>20.536458</td>\n",
       "      <td>79.799479</td>\n",
       "      <td>27.500000</td>\n",
       "      <td>0.243750</td>\n",
       "      <td>24.000000</td>\n",
       "      <td>0.000000</td>\n",
       "    </tr>\n",
       "    <tr>\n",
       "      <td>50%</td>\n",
       "      <td>3.000000</td>\n",
       "      <td>117.000000</td>\n",
       "      <td>72.000000</td>\n",
       "      <td>23.000000</td>\n",
       "      <td>79.799479</td>\n",
       "      <td>32.000000</td>\n",
       "      <td>0.372500</td>\n",
       "      <td>29.000000</td>\n",
       "      <td>0.000000</td>\n",
       "    </tr>\n",
       "    <tr>\n",
       "      <td>75%</td>\n",
       "      <td>6.000000</td>\n",
       "      <td>140.250000</td>\n",
       "      <td>80.000000</td>\n",
       "      <td>32.000000</td>\n",
       "      <td>127.250000</td>\n",
       "      <td>36.600000</td>\n",
       "      <td>0.626250</td>\n",
       "      <td>41.000000</td>\n",
       "      <td>1.000000</td>\n",
       "    </tr>\n",
       "    <tr>\n",
       "      <td>max</td>\n",
       "      <td>17.000000</td>\n",
       "      <td>199.000000</td>\n",
       "      <td>122.000000</td>\n",
       "      <td>99.000000</td>\n",
       "      <td>846.000000</td>\n",
       "      <td>67.100000</td>\n",
       "      <td>2.420000</td>\n",
       "      <td>81.000000</td>\n",
       "      <td>1.000000</td>\n",
       "    </tr>\n",
       "  </tbody>\n",
       "</table>\n",
       "</div>"
      ],
      "text/plain": [
       "       Pregnancies     Glucose  BloodPressure  SkinThickness     Insulin  \\\n",
       "count   768.000000  768.000000     768.000000     768.000000  768.000000   \n",
       "mean      3.845052  121.681605      72.254807      26.606479  118.660163   \n",
       "std       3.369578   30.436016      12.115932       9.631241   93.080358   \n",
       "min       0.000000   44.000000      24.000000       7.000000   14.000000   \n",
       "25%       1.000000   99.750000      64.000000      20.536458   79.799479   \n",
       "50%       3.000000  117.000000      72.000000      23.000000   79.799479   \n",
       "75%       6.000000  140.250000      80.000000      32.000000  127.250000   \n",
       "max      17.000000  199.000000     122.000000      99.000000  846.000000   \n",
       "\n",
       "              BMI  DiabetesPedigreeFunction         Age     Outcome  \n",
       "count  768.000000                768.000000  768.000000  768.000000  \n",
       "mean    32.450805                  0.471876   33.240885    0.348958  \n",
       "std      6.875374                  0.331329   11.760232    0.476951  \n",
       "min     18.200000                  0.078000   21.000000    0.000000  \n",
       "25%     27.500000                  0.243750   24.000000    0.000000  \n",
       "50%     32.000000                  0.372500   29.000000    0.000000  \n",
       "75%     36.600000                  0.626250   41.000000    1.000000  \n",
       "max     67.100000                  2.420000   81.000000    1.000000  "
      ]
     },
     "execution_count": 151,
     "metadata": {},
     "output_type": "execute_result"
    }
   ],
   "source": [
    "# 앞에서 지정한 특성들의 0 값을 각 특성들의 평균값으로 대체한다.\n",
    "feature_mean = data[feature].mean()\n",
    "data[feature] = data[feature].replace(0,feature_mean)\n",
    "\n",
    "# 변경사항 확인하기\n",
    "data.describe()\n",
    "\n",
    "#################################\n",
    "# 최솟값이 평균으로 바뀐것을 확인할 수 있다."
   ]
  },
  {
   "cell_type": "code",
   "execution_count": 155,
   "metadata": {},
   "outputs": [
    {
     "name": "stdout",
     "output_type": "stream",
     "text": [
      "정확도 : 0.766\n",
      "오차 행렬\n",
      "[[89 11]\n",
      " [25 29]]\n",
      "정밀도 : 0.7250, 재현율 : 0.5370, F1 : 0.6170, AUC : 0.8796\n"
     ]
    }
   ],
   "source": [
    "# 데이터 값들을 변경 후 다시 X,y데이터 생성 후 데이터 나누기\n",
    "X = data.iloc[:,:-1]\n",
    "y = data.iloc[:,-1]\n",
    "\n",
    "# 데이터 나누기\n",
    "X_train,X_test,y_train,y_test = train_test_split(X,y,random_state=0,stratify=y,test_size = 0.2)\n",
    "\n",
    "# 스케일링 작업하기 -> 로지스틱 회귀모델의 경우 스케일링을 해주었을 때 좀 더 성능이 좋다.\n",
    "# 훈련데이터를 fit 했으면 테스트 데이터에서는 transform만 해주어야 한다.\n",
    "scaler  = StandardScaler()\n",
    "X_train_trans = scaler.fit_transform(X_train)\n",
    "X_test_trans = scaler.transform(X_test)\n",
    "\n",
    "# 모델 생성 및 학습\n",
    "lr_clf = LogisticRegression(solver='lbfgs')\n",
    "lr_clf.fit(X_train_trans,y_train)\n",
    "\n",
    "# 모델 예측 및 평가\n",
    "pred = lr_clf.predict(X_test_trans)\n",
    "pred_proba = lr_clf.predict_proba(X_test_trans)[:,1]\n",
    "\n",
    "print('정확도 : {:.3f}'.format(accuracy_score(y_test,pred)))\n",
    "get_clf_eval(y_test,pred,pred_proba)"
   ]
  },
  {
   "cell_type": "code",
   "execution_count": 156,
   "metadata": {},
   "outputs": [
    {
     "data": {
      "image/png": "[encoded data removed]",
      "text/plain": [
       "<Figure size 576x432 with 1 Axes>"
      ]
     },
     "metadata": {
      "needs_background": "light"
     },
     "output_type": "display_data"
    }
   ],
   "source": [
    "# 정밀도와 재현율의 곡선 그려보기\n",
    "precision_recall_curve_plot(y_test,pred_proba)\n",
    "\n",
    "##########################\n",
    "# 앞에서 데이터 전처리를 하지 않고 모델에 적용한것 보다는 성능이 좋게 나옴\n",
    "# 재현율을 향상시킬 필요가 있음 --> 임계값을 변경한다."
   ]
  },
  {
   "cell_type": "code",
   "execution_count": 182,
   "metadata": {},
   "outputs": [
    {
     "name": "stdout",
     "output_type": "stream",
     "text": [
      "임곗값: 0.3\n",
      "오차 행렬\n",
      "[[75 25]\n",
      " [ 9 45]]\n",
      "정밀도 : 0.6429, 재현율 : 0.8333, F1 : 0.7258, AUC : 0.8796\n",
      "임곗값: 0.33\n",
      "오차 행렬\n",
      "[[78 22]\n",
      " [11 43]]\n",
      "정밀도 : 0.6615, 재현율 : 0.7963, F1 : 0.7227, AUC : 0.8796\n",
      "임곗값: 0.36\n",
      "오차 행렬\n",
      "[[81 19]\n",
      " [15 39]]\n",
      "정밀도 : 0.6724, 재현율 : 0.7222, F1 : 0.6964, AUC : 0.8796\n",
      "임곗값: 0.39\n",
      "오차 행렬\n",
      "[[81 19]\n",
      " [16 38]]\n",
      "정밀도 : 0.6667, 재현율 : 0.7037, F1 : 0.6847, AUC : 0.8796\n",
      "임곗값: 0.42\n",
      "오차 행렬\n",
      "[[85 15]\n",
      " [17 37]]\n",
      "정밀도 : 0.7115, 재현율 : 0.6852, F1 : 0.6981, AUC : 0.8796\n",
      "임곗값: 0.45\n",
      "오차 행렬\n",
      "[[86 14]\n",
      " [23 31]]\n",
      "정밀도 : 0.6889, 재현율 : 0.5741, F1 : 0.6263, AUC : 0.8796\n",
      "임곗값: 0.48\n",
      "오차 행렬\n",
      "[[89 11]\n",
      " [25 29]]\n",
      "정밀도 : 0.7250, 재현율 : 0.5370, F1 : 0.6170, AUC : 0.8796\n",
      "임곗값: 0.5\n",
      "오차 행렬\n",
      "[[89 11]\n",
      " [25 29]]\n",
      "정밀도 : 0.7250, 재현율 : 0.5370, F1 : 0.6170, AUC : 0.8796\n"
     ]
    }
   ],
   "source": [
    "# 임계값을 변경하면서 평가해보기\n",
    "\n",
    "# 임계값 지정\n",
    "thresholds = [0.3,0.33,0.36,0.39,0.42,0.45,0.48,0.5]\n",
    "\n",
    "# 예측값들의 확률\n",
    "pred_proba1 = lr_clf.predict_proba(X_test_trans)\n",
    "\n",
    "# 함수 적용하기\n",
    "get_eval_by_threshold(y_test, pred_proba1[:,1].reshape(-1,1), thresholds )\n",
    "\n",
    "#########################\n",
    "# 임계값이 0.42정도 일때 정밀도와 재현율이 비슷하다는 것을 확인 할 수 있다.\n",
    "# 정밀도를 더 중요시 여긴다면 임계값을 0.42보다 더 높이면 된다"
   ]
  },
  {
   "cell_type": "code",
   "execution_count": 186,
   "metadata": {},
   "outputs": [
    {
     "name": "stdout",
     "output_type": "stream",
     "text": [
      "오차 행렬\n",
      "[[85 15]\n",
      " [17 37]]\n",
      "정밀도 : 0.7115, 재현율 : 0.6852, F1 : 0.6981, AUC : 0.8796\n"
     ]
    },
    {
     "data": {
      "text/html": [
       "<div>\n",
       "<style scoped>\n",
       "    .dataframe tbody tr th:only-of-type {\n",
       "        vertical-align: middle;\n",
       "    }\n",
       "\n",
       "    .dataframe tbody tr th {\n",
       "        vertical-align: top;\n",
       "    }\n",
       "\n",
       "    .dataframe thead th {\n",
       "        text-align: right;\n",
       "    }\n",
       "</style>\n",
       "<table border=\"1\" class=\"dataframe\">\n",
       "  <thead>\n",
       "    <tr style=\"text-align: right;\">\n",
       "      <th></th>\n",
       "      <th>0</th>\n",
       "    </tr>\n",
       "  </thead>\n",
       "  <tbody>\n",
       "    <tr>\n",
       "      <td>0</td>\n",
       "      <td>0.0</td>\n",
       "    </tr>\n",
       "    <tr>\n",
       "      <td>1</td>\n",
       "      <td>0.0</td>\n",
       "    </tr>\n",
       "    <tr>\n",
       "      <td>2</td>\n",
       "      <td>0.0</td>\n",
       "    </tr>\n",
       "    <tr>\n",
       "      <td>3</td>\n",
       "      <td>1.0</td>\n",
       "    </tr>\n",
       "    <tr>\n",
       "      <td>4</td>\n",
       "      <td>1.0</td>\n",
       "    </tr>\n",
       "    <tr>\n",
       "      <td>...</td>\n",
       "      <td>...</td>\n",
       "    </tr>\n",
       "    <tr>\n",
       "      <td>149</td>\n",
       "      <td>0.0</td>\n",
       "    </tr>\n",
       "    <tr>\n",
       "      <td>150</td>\n",
       "      <td>0.0</td>\n",
       "    </tr>\n",
       "    <tr>\n",
       "      <td>151</td>\n",
       "      <td>1.0</td>\n",
       "    </tr>\n",
       "    <tr>\n",
       "      <td>152</td>\n",
       "      <td>0.0</td>\n",
       "    </tr>\n",
       "    <tr>\n",
       "      <td>153</td>\n",
       "      <td>0.0</td>\n",
       "    </tr>\n",
       "  </tbody>\n",
       "</table>\n",
       "<p>154 rows × 1 columns</p>\n",
       "</div>"
      ],
      "text/plain": [
       "       0\n",
       "0    0.0\n",
       "1    0.0\n",
       "2    0.0\n",
       "3    1.0\n",
       "4    1.0\n",
       "..   ...\n",
       "149  0.0\n",
       "150  0.0\n",
       "151  1.0\n",
       "152  0.0\n",
       "153  0.0\n",
       "\n",
       "[154 rows x 1 columns]"
      ]
     },
     "execution_count": 186,
     "metadata": {},
     "output_type": "execute_result"
    }
   ],
   "source": [
    "# 임계값을 0.42로 결정\n",
    "binarizer_final = Binarizer(threshold=0.42)\n",
    "\n",
    "# predict_proba 출력하기\n",
    "pred_proba_final =  lr_clf.predict_proba(X_test_trans)\n",
    "\n",
    "# 결과 출력하기\n",
    "result = binarizer_final.fit_transform(pred_proba_final[:,1].reshape(-1,1))\n",
    "\n",
    "# 평가 지표 출력\n",
    "get_clf_eval(y_test,result,pred_proba_final[:,1])\n",
    "pd.DataFrame(result)"
   ]
  },
  {
   "cell_type": "code",
   "execution_count": null,
   "metadata": {},
   "outputs": [],
   "source": []
  }
 ],
 "metadata": {
  "kernelspec": {
   "display_name": "Python 3",
   "language": "python",
   "name": "python3"
  },
  "language_info": {
   "codemirror_mode": {
    "name": "ipython",
    "version": 3
   },
   "file_extension": ".py",
   "mimetype": "text/x-python",
   "name": "python",
   "nbconvert_exporter": "python",
   "pygments_lexer": "ipython3",
   "version": "3.7.4"
  }
 },
 "nbformat": 4,
 "nbformat_minor": 2
}
